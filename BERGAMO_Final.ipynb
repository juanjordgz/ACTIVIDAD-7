{
  "cells": [
    {
      "cell_type": "code",
      "execution_count": null,
      "metadata": {
        "collapsed": true,
        "id": "IfNUzrBDjCE9"
      },
      "outputs": [],
      "source": [
        "#Importar librerias necesarias\n",
        "#%pip install funpymodeling\n",
        "import pandas as pd\n",
        "import numpy as np\n",
        "import matplotlib.pyplot as plt\n",
        "from funpymodeling.exploratory import freq_tbl\n",
        "import seaborn as sns"
      ]
    },
    {
      "cell_type": "code",
      "execution_count": null,
      "metadata": {
        "colab": {
          "base_uri": "https://localhost:8080/",
          "height": 516
        },
        "collapsed": true,
        "id": "cs9-m__mjGsn",
        "outputId": "333ba1b7-d15f-4e91-8835-f554ddb5ef2e"
      },
      "outputs": [],
      "source": [
        "# Cargar el archivo CSV comprimido en formato .gz\n",
        "Bergamo= pd.read_csv('Bergamo_listings.csv.gz', compression='gzip')\n",
        "\n",
        "# Mostrar las primeras filas del DataFrame\n",
        "Bergamo.head()\n",
        "\n"
      ]
    },
    {
      "cell_type": "code",
      "execution_count": null,
      "metadata": {
        "colab": {
          "base_uri": "https://localhost:8080/",
          "height": 1000
        },
        "collapsed": true,
        "id": "MUvmKmv3jIid",
        "outputId": "a219d8b8-45b9-4e2a-ce62-df2bfeccb53e"
      },
      "outputs": [],
      "source": [
        "#Identificar valores nulos por columna\n",
        "# Ajustar maximo de filas\n",
        "pd.options.display.max_rows = None\n",
        "Valores_Nulos=Bergamo.isnull().sum()\n",
        "Columnas_Con_Nulos = Valores_Nulos[Valores_Nulos > 0]\n",
        "Columnas_Con_Nulos"
      ]
    },
    {
      "cell_type": "code",
      "execution_count": null,
      "metadata": {
        "colab": {
          "base_uri": "https://localhost:8080/",
          "height": 837
        },
        "collapsed": true,
        "id": "vzbl7HtfjLLB",
        "outputId": "a55b3c4a-d666-4471-d66f-d9ebf3939603"
      },
      "outputs": [],
      "source": [
        "#Información tipos de columnas\n",
        "Tipos_Columnas = Bergamo[Columnas_Con_Nulos.index].dtypes\n",
        "Columnas_Object = Tipos_Columnas[Tipos_Columnas == 'object']\n",
        "Columnas_Object"
      ]
    },
    {
      "cell_type": "code",
      "execution_count": null,
      "metadata": {
        "colab": {
          "base_uri": "https://localhost:8080/",
          "height": 523
        },
        "collapsed": true,
        "id": "My3C2MtJjNP6",
        "outputId": "a396a858-ddac-4fcf-8a68-3ee57b5f163f"
      },
      "outputs": [],
      "source": [
        "#Información tipos de columnas\n",
        "Tipos_Columnas = Bergamo[Columnas_Con_Nulos.index].dtypes\n",
        "Columnas_Object = Tipos_Columnas[Tipos_Columnas == 'float']\n",
        "Columnas_Object"
      ]
    },
    {
      "cell_type": "code",
      "execution_count": null,
      "metadata": {
        "id": "DgyvOLIqjPhO"
      },
      "outputs": [],
      "source": [
        "#Realizamos una copia del dataframe\n",
        "copia_Bergamo = Bergamo.copy()"
      ]
    },
    {
      "cell_type": "code",
      "execution_count": null,
      "metadata": {
        "id": "H7OKI-GbjRWH"
      },
      "outputs": [],
      "source": [
        "#Cuarto método de sustitución de valores nulos\n",
        "#Sustituir valores nulos por un string en  concreto\n",
        "copia_Bergamo[\"description\"] = copia_Bergamo[\"description\"].fillna(\"DESCRIPCIÓN FALTANTE\")\n",
        "copia_Bergamo[\"neighborhood_overview\"] = copia_Bergamo[\"neighborhood_overview\"].fillna(\"SIN INFORMACIÓN\")\n",
        "copia_Bergamo[\"picture_url\"] = copia_Bergamo[\"picture_url\"].fillna(\"SIN IMAGEN\")\n",
        "copia_Bergamo[\"host_name\"] = copia_Bergamo[\"host_name\"].fillna(\"ANONIMO\")\n",
        "copia_Bergamo[\"host_since\"] = copia_Bergamo[\"host_since\"].fillna(\"SIN FECHA\")\n",
        "copia_Bergamo[\"host_location\"] = copia_Bergamo[\"host_location\"].fillna(\"SIN INFORMACIÓN\")\n",
        "copia_Bergamo[\"host_about\"] = copia_Bergamo[\"host_about\"].fillna(\"SIN INFORMACIÓN\")\n",
        "copia_Bergamo[\"host_response_time\"] = copia_Bergamo[\"host_response_time\"].fillna(\"SIN INFORMACIÓN\")\n",
        "copia_Bergamo[\"host_response_rate\"] = copia_Bergamo[\"host_response_rate\"].fillna(\"SIN INFORMACIÓN\")\n",
        "copia_Bergamo[\"host_acceptance_rate\"] = copia_Bergamo[\"host_acceptance_rate\"].fillna(\"SIN INFORMACIÓN\")\n",
        "copia_Bergamo[\"host_is_superhost\"] = copia_Bergamo[\"host_is_superhost\"].fillna(\"VALIDACIÓN PENDIENTE\")\n",
        "copia_Bergamo[\"host_thumbnail_url\"] = copia_Bergamo[\"host_thumbnail_url\"].fillna(\"MINIATURA NO DISPONIBLE\")\n",
        "copia_Bergamo[\"host_picture_url\"] = copia_Bergamo[\"host_picture_url\"].fillna(\"SIN IMAGEN\")\n",
        "copia_Bergamo[\"host_neighbourhood\"] = copia_Bergamo[\"host_neighbourhood\"].fillna(\"SIN INFORMACIÓN\")\n",
        "copia_Bergamo[\"host_verifications\"] = copia_Bergamo[\"host_verifications\"].fillna(\"VALIDACIÓN PENDIENTE\")\n",
        "copia_Bergamo[\"host_has_profile_pic\"] = copia_Bergamo[\"host_has_profile_pic\"].fillna(\"INFORMACIÓN FALTANTE\")\n",
        "copia_Bergamo[\"host_identity_verified\"] = copia_Bergamo[\"host_identity_verified\"].fillna(\"INFORMACIÓN FALTANTE\")\n",
        "copia_Bergamo[\"neighbourhood\"] = copia_Bergamo[\"neighbourhood\"].fillna(\"SIN INFORMACIÓN\")\n",
        "copia_Bergamo[\"bathrooms_text\"] = copia_Bergamo[\"bathrooms_text\"].fillna(\"SIN INFORMACIÓN\")\n",
        "copia_Bergamo[\"price\"] = copia_Bergamo[\"price\"].fillna(\"NO DEFINIDO\")\n",
        "copia_Bergamo[\"has_availability\"] = copia_Bergamo[\"has_availability\"].fillna(\"INFORMACIÓN NO DISPONIBLE\")\n",
        "copia_Bergamo[\"first_review\"] = copia_Bergamo[\"first_review\"].fillna(\"SIN RESEÑA\")\n",
        "copia_Bergamo[\"last_review\"] = copia_Bergamo[\"last_review\"].fillna(\"SIN RESEÑA\")\n",
        "copia_Bergamo[\"license\"] = copia_Bergamo[\"license\"].fillna(\"SIN LICENCIA\")"
      ]
    },
    {
      "cell_type": "code",
      "execution_count": null,
      "metadata": {
        "id": "i_j8VI8_jT6s"
      },
      "outputs": [],
      "source": [
        "#Primer método de sustitución de valores nulos\n",
        "#Sustituir valores nulos con promedio o media\n",
        "copia_Bergamo[\"review_scores_rating\"]=copia_Bergamo[\"review_scores_rating\"].fillna(round(copia_Bergamo ['review_scores_rating'].mean(),1))\n",
        "copia_Bergamo[\"review_scores_accuracy\"]=copia_Bergamo[\"review_scores_accuracy\"].fillna(round(copia_Bergamo ['review_scores_accuracy'].mean(),1))\n",
        "copia_Bergamo[\"review_scores_cleanliness\"]=copia_Bergamo[\"review_scores_cleanliness\"].fillna(round(copia_Bergamo ['review_scores_cleanliness'].mean(),1))\n",
        "copia_Bergamo[\"review_scores_checkin\"]=copia_Bergamo[\"review_scores_checkin\"].fillna(round(copia_Bergamo ['review_scores_checkin'].mean(),1))\n",
        "copia_Bergamo[\"review_scores_communication\"]=copia_Bergamo[\"review_scores_communication\"].fillna(round(copia_Bergamo ['review_scores_communication'].mean(),1))\n",
        "copia_Bergamo[\"review_scores_location\"]=copia_Bergamo[\"review_scores_location\"].fillna(round(copia_Bergamo ['review_scores_location'].mean(),1))\n",
        "copia_Bergamo[\"review_scores_value\"]=copia_Bergamo[\"review_scores_value\"].fillna(round(copia_Bergamo ['review_scores_value'].mean(),1))\n",
        "copia_Bergamo[\"reviews_per_month\"]=copia_Bergamo[\"reviews_per_month\"].fillna(round(copia_Bergamo ['reviews_per_month'].mean(),1))\n",
        "copia_Bergamo[\"host_listings_count\"]=copia_Bergamo[\"host_listings_count\"].fillna(round(copia_Bergamo ['host_listings_count'].mean(),1))\n",
        "copia_Bergamo[\"host_total_listings_count\"]=copia_Bergamo[\"host_total_listings_count\"].fillna(round(copia_Bergamo ['host_total_listings_count'].mean(),1))"
      ]
    },
    {
      "cell_type": "code",
      "execution_count": null,
      "metadata": {
        "id": "5EJjlU6zjWHz"
      },
      "outputs": [],
      "source": [
        "#Tercer método de sustitución de valores nulos\n",
        "#Sustituir valores nulos por un valor numérico en  concreto\n",
        "copia_Bergamo[\"bathrooms\"]=copia_Bergamo[\"bathrooms\"].fillna(\"-\")\n",
        "copia_Bergamo[\"bedrooms\"]=copia_Bergamo[\"bedrooms\"].fillna(\"-\")\n",
        "copia_Bergamo[\"beds\"]=copia_Bergamo[\"beds\"].fillna(\"-\")\n",
        "copia_Bergamo[\"calendar_updated\"]=copia_Bergamo[\"calendar_updated\"].fillna(\"-\")"
      ]
    },
    {
      "cell_type": "code",
      "execution_count": null,
      "metadata": {
        "colab": {
          "base_uri": "https://localhost:8080/",
          "height": 1000
        },
        "collapsed": true,
        "id": "l1snzvd_jYQF",
        "outputId": "3c7f0317-f836-4c61-8253-24b8899df94b"
      },
      "outputs": [],
      "source": [
        "#Corroboramos valores nulos\n",
        "# Ajustar maximo de filas\n",
        "pd.options.display.max_rows = None\n",
        "valores_nulos=copia_Bergamo.isnull().sum()\n",
        "valores_nulos"
      ]
    },
    {
      "cell_type": "code",
      "execution_count": null,
      "metadata": {
        "id": "W-K3EDl7jaaU"
      },
      "outputs": [],
      "source": [
        "#Seleccionar variables relevantes\n",
        "Bergamo_variables = copia_Bergamo[['listing_url', 'last_scraped', 'source', 'name', 'host_url', 'host_name', 'host_since', 'host_location', 'host_response_time', 'host_response_rate', 'host_acceptance_rate', 'host_is_superhost', 'host_neighbourhood', 'host_verifications', 'host_has_profile_pic', 'host_identity_verified', 'neighbourhood_cleansed', 'property_type', 'room_type', 'accommodates', 'bathrooms_text', 'bedrooms', 'beds', 'amenities', 'price', 'has_availability', 'number_of_reviews', 'review_scores_rating', 'instant_bookable', 'calculated_host_listings_count', 'reviews_per_month']]"
      ]
    },
    {
      "cell_type": "code",
      "execution_count": null,
      "metadata": {
        "colab": {
          "base_uri": "https://localhost:8080/",
          "height": 568
        },
        "collapsed": true,
        "id": "guWDmgW0i7Bp",
        "outputId": "1bc95dc6-3f88-4764-87c5-b8b072a5de6d"
      },
      "outputs": [],
      "source": [
        "Bergamo_variables.head()"
      ]
    },
    {
      "cell_type": "markdown",
      "metadata": {
        "id": "7-OU4sbHlMBm"
      },
      "source": [
        "ELIMINAR OUTLIERS POR DESVIACION ESTANDAR"
      ]
    },
    {
      "cell_type": "code",
      "execution_count": null,
      "metadata": {
        "colab": {
          "base_uri": "https://localhost:8080/",
          "height": 1000
        },
        "collapsed": true,
        "id": "CmxhmUKvk1n6",
        "outputId": "be380586-b59d-4d91-f9b7-7236c880bcf3"
      },
      "outputs": [],
      "source": [
        "Bergamo_variables.dtypes"
      ]
    },
    {
      "cell_type": "code",
      "execution_count": null,
      "metadata": {
        "id": "rfFZUWMtlTnb"
      },
      "outputs": [],
      "source": [
        "#Separar por columnas cualitativas y cuantitativas\n",
        "columnas_cualitativas = Bergamo_variables.select_dtypes(include = 'object')\n",
        "columnas_cuantitativas = Bergamo_variables.select_dtypes(include = ['int64', 'float64'])"
      ]
    },
    {
      "cell_type": "code",
      "execution_count": null,
      "metadata": {
        "colab": {
          "base_uri": "https://localhost:8080/",
          "height": 470
        },
        "collapsed": true,
        "id": "Vy3cTpZilcW3",
        "outputId": "9a5419ee-c20a-4b86-d587-7c5ce89ec30b"
      },
      "outputs": [],
      "source": [
        "#Hacer un boxplot de valores atipicos de las columnas cuantitativas\n",
        "fig = plt.figure(figsize = (20, 10))\n",
        "columnas_cuantitativas.plot(kind = 'box', vert = False)\n",
        "plt.title(\"Valores atipicos\")\n",
        "plt.show()"
      ]
    },
    {
      "cell_type": "code",
      "execution_count": null,
      "metadata": {
        "colab": {
          "base_uri": "https://localhost:8080/"
        },
        "collapsed": true,
        "id": "4vn7xjzInY5l",
        "outputId": "7471a5b6-ab68-4f90-f10d-e888ec41f2f9"
      },
      "outputs": [],
      "source": [
        "y = columnas_cuantitativas\n",
        "Limite_superior = y.mean() + 3*y.std()\n",
        "Limite_inferior = y.mean() - 3*y.std()\n",
        "print(\"Limite superior permitido\", Limite_superior)\n",
        "print(\"Limite inferior permitido\", Limite_inferior)"
      ]
    },
    {
      "cell_type": "code",
      "execution_count": null,
      "metadata": {
        "id": "TRXQnBpAncae"
      },
      "outputs": [],
      "source": [
        "#Filtrar solo por columnas dentro de los limites\n",
        "columnas_cuantitativas_sin_outliers = columnas_cuantitativas[(y <= Limite_superior) & (y >= Limite_inferior)]"
      ]
    },
    {
      "cell_type": "code",
      "execution_count": null,
      "metadata": {
        "colab": {
          "base_uri": "https://localhost:8080/",
          "height": 241
        },
        "collapsed": true,
        "id": "CuVEGxhQne_f",
        "outputId": "fad0895f-8ce1-47c0-c815-f2fb296c30cf"
      },
      "outputs": [],
      "source": [
        "#Revisar valores nulos\n",
        "valores_nulos_cuantitativo = columnas_cuantitativas_sin_outliers.isnull().sum()\n",
        "valores_nulos_cuantitativo"
      ]
    },
    {
      "cell_type": "code",
      "execution_count": null,
      "metadata": {
        "id": "UwiRL51-njMj"
      },
      "outputs": [],
      "source": [
        "#Hacer una copia del dataframe y rellenar los valores nulos con la media\n",
        "columnas_cuantitativas_limpio = columnas_cuantitativas_sin_outliers.copy()\n",
        "columnas_cuantitativas_limpio = columnas_cuantitativas_limpio.fillna(round(columnas_cuantitativas_sin_outliers.mean(), 1))"
      ]
    },
    {
      "cell_type": "code",
      "execution_count": null,
      "metadata": {
        "colab": {
          "base_uri": "https://localhost:8080/",
          "height": 568
        },
        "collapsed": true,
        "id": "6aTJw0Aan5GH",
        "outputId": "c387e970-9f39-4944-daf3-d4bcc03ccac1"
      },
      "outputs": [],
      "source": [
        "#Se juntan las columnas cualitativas con las cuantitativas\n",
        "Bergamo_outliers = pd.concat([columnas_cuantitativas_limpio, columnas_cualitativas], axis = 1)\n",
        "Bergamo_outliers.head()"
      ]
    },
    {
      "cell_type": "code",
      "execution_count": null,
      "metadata": {
        "colab": {
          "base_uri": "https://localhost:8080/",
          "height": 1000
        },
        "collapsed": true,
        "id": "WFqKEmo7oBWa",
        "outputId": "f8f4d0a3-e6ff-411e-d2c7-bb3d054eb495"
      },
      "outputs": [],
      "source": [
        "#Comprobamos que no existan valores nulos\n",
        "valores_nulos_Bergamo_outliers = Bergamo_outliers.isnull().sum()\n",
        "valores_nulos_Bergamo_outliers"
      ]
    },
    {
      "cell_type": "markdown",
      "metadata": {
        "id": "DUsuUS7D3v8q"
      },
      "source": [
        "Realizar la extracción de características de las siguientes columnas categóricas: (host_response_time, host_acceptance_rate, property_type, room_type, amenities y host_is_superhost)"
      ]
    },
    {
      "cell_type": "code",
      "execution_count": null,
      "metadata": {
        "colab": {
          "base_uri": "https://localhost:8080/",
          "height": 1000
        },
        "collapsed": true,
        "id": "KrOW908O32aa",
        "outputId": "d03e9da8-9bab-4efd-c851-e9c9a2881648"
      },
      "outputs": [],
      "source": [
        "#Extraer características de análisis univariado y generar tabla de frecuencias\n",
        "freq_tbl(Bergamo_outliers)\n",
        "Bergamo_outliers.dtypes"
      ]
    },
    {
      "cell_type": "code",
      "execution_count": null,
      "metadata": {
        "colab": {
          "base_uri": "https://localhost:8080/",
          "height": 625
        },
        "collapsed": true,
        "id": "rJ7vGF4d4EvS",
        "outputId": "6f533a6d-7a73-43de-9c0f-a22243485320"
      },
      "outputs": [],
      "source": [
        "tabla1=freq_tbl(Bergamo_outliers[\"host_response_time\"])\n",
        "filtro1=tabla1[tabla1[\"frequency\"]>1]\n",
        "filtro1_index=filtro1.set_index(\"host_response_time\")\n",
        "filtro1_index_freq=filtro1_index.drop([\"percentage\", \"cumulative_perc\"], axis=1)\n",
        "filtro1_index_freq.plot(kind=\"bar\", width=.8, figsize=(10,5), color=\"#fa8762\")\n",
        "plt.ylabel(\"frecuencia\")\n",
        "plt.title(\"Tiempo de respuesta del host\")"
      ]
    },
    {
      "cell_type": "code",
      "execution_count": null,
      "metadata": {
        "colab": {
          "base_uri": "https://localhost:8080/",
          "height": 618
        },
        "collapsed": true,
        "id": "rlt_QdVO4Urb",
        "outputId": "5614c8d5-9bd7-419f-c4ea-60419873af65"
      },
      "outputs": [],
      "source": [
        "tabla2=freq_tbl(Bergamo_outliers[\"host_acceptance_rate\"])\n",
        "filtro2=tabla2[tabla2[\"frequency\"]>100]\n",
        "filtro2_index=filtro2.set_index(\"host_acceptance_rate\")\n",
        "filtro2_index_freq=filtro2_index.drop([\"percentage\", \"cumulative_perc\"], axis=1)\n",
        "filtro2_index_freq.plot(kind=\"bar\", width=.8, figsize=(10,5), color=\"#28e5bd\")\n",
        "plt.ylabel(\"frecuencia\")\n",
        "plt.title(\"índice de aceptación de anfitriones\")"
      ]
    },
    {
      "cell_type": "code",
      "execution_count": null,
      "metadata": {
        "colab": {
          "base_uri": "https://localhost:8080/",
          "height": 462
        },
        "collapsed": true,
        "id": "jt5uECiy45AG",
        "outputId": "9b2d7eec-d5b5-49fe-f58e-7a0cc2ad571b"
      },
      "outputs": [],
      "source": [
        "tabla3=freq_tbl(Bergamo_outliers[\"property_type\"])\n",
        "filtro3=tabla3[tabla3[\"frequency\"]>400]\n",
        "filtro3_index=filtro3.set_index(\"property_type\")\n",
        "filtro3_index[\"frequency\"].plot(kind=\"pie\", figsize=(10,5),shadow=True, autopct='%1.1f%%' )\n",
        "plt.title(\"Tipo de propiedad\")"
      ]
    },
    {
      "cell_type": "code",
      "execution_count": null,
      "metadata": {
        "colab": {
          "base_uri": "https://localhost:8080/",
          "height": 462
        },
        "collapsed": true,
        "id": "S_VvFCQr5VZm",
        "outputId": "cc0a7743-72a2-4cad-d38c-d91caaf8e012"
      },
      "outputs": [],
      "source": [
        "tabla4=freq_tbl(Bergamo_outliers[\"room_type\"])\n",
        "filtro4=tabla4[tabla4[\"frequency\"]>300]\n",
        "filtro4_index=filtro4.set_index(\"room_type\")\n",
        "filtro4_index[\"frequency\"].plot(kind=\"pie\", figsize=(10,5),shadow=True, autopct='%1.1f%%' )\n",
        "plt.title(\"Tipo de cuarto\")"
      ]
    },
    {
      "cell_type": "code",
      "execution_count": null,
      "metadata": {
        "colab": {
          "base_uri": "https://localhost:8080/",
          "height": 773
        },
        "collapsed": true,
        "id": "-sd3Zqlp5fj7",
        "outputId": "fc76ec5f-b1b4-4c2f-915c-ee2a60693f65"
      },
      "outputs": [],
      "source": [
        "# Dado que 'amenities' es una lista de elementos, contaremos la frecuencia de cada amenidad\n",
        "# Primero, descomponer la lista de amenidades\n",
        "Bergamo_outliers['amenities'] = Bergamo_outliers['amenities'].str.strip('[]').str.replace('\"', '').str.split(',')\n",
        "\n",
        "# Convertir la lista de amenidades en una Serie de amenidades individuales\n",
        "amenities_series = Bergamo_outliers['amenities'].explode()\n",
        "\n",
        "plt.figure(figsize=(10, 6))\n",
        "amenities_series.value_counts().head(20).plot(kind='bar', color='coral') \n",
        "# Mostrar las 20 amenidades más comunes\n",
        "plt.title('Top 20 Amenidades')\n",
        "plt.xlabel('Amenidades')\n",
        "plt.ylabel('Frecuencia')\n",
        "plt.xticks(rotation=90)\n",
        "plt.show()\n"
      ]
    },
    {
      "cell_type": "code",
      "execution_count": null,
      "metadata": {
        "colab": {
          "base_uri": "https://localhost:8080/",
          "height": 505
        },
        "collapsed": true,
        "id": "j3p0Al2z6pcA",
        "outputId": "c2c784f2-d8c2-4df4-df49-7a7afb9273da"
      },
      "outputs": [],
      "source": [
        "tabla6=freq_tbl(Bergamo_outliers[\"host_is_superhost\"])\n",
        "filtro6=tabla6[tabla6[\"frequency\"]>1]\n",
        "filtro6_index=filtro6.set_index(\"host_is_superhost\")\n",
        "filtro6_index_freq=filtro6_index.drop([\"percentage\", \"cumulative_perc\"], axis=1)\n",
        "filtro6_index_freq.plot(kind=\"area\", figsize=(10,5), alpha=.6, color=\"#7328e5\")\n",
        "plt.title(\"El host es superhost\")"
      ]
    },
    {
      "cell_type": "markdown",
      "metadata": {
        "id": "z0fuuxq29nVA"
      },
      "source": [
        "Correlación"
      ]
    },
    {
      "cell_type": "code",
      "execution_count": null,
      "metadata": {
        "colab": {
          "base_uri": "https://localhost:8080/",
          "height": 226
        },
        "collapsed": true,
        "id": "xx1alBXi9zna",
        "outputId": "775771d7-a2e7-41cc-8b21-e044abea621d"
      },
      "outputs": [],
      "source": [
        "#Encontramos todas las correlaciones entre las variables y convertimos a valor absoluto\n",
        "Corr_Factors=columnas_cuantitativas_limpio.corr()\n",
        "Corr_Factors1= abs(Corr_Factors)\n",
        "Corr_Factors1"
      ]
    },
    {
      "cell_type": "code",
      "execution_count": null,
      "metadata": {
        "colab": {
          "base_uri": "https://localhost:8080/",
          "height": 650
        },
        "collapsed": true,
        "id": "DfrXN-K--ade",
        "outputId": "9a1c5f29-5c81-4cf0-e071-748d45ef6d01"
      },
      "outputs": [],
      "source": [
        "#Mapa de calor\n",
        "Heat_Map= sns.heatmap(Corr_Factors1, cmap = 'coolwarm')\n",
        "Heat_Map"
      ]
    },
    {
      "cell_type": "code",
      "execution_count": null,
      "metadata": {
        "id": "g8-DxcP9_MlW"
      },
      "outputs": [],
      "source": [
        "#Declaramos las variables dependientes e independientes para la regresión lineal\n",
        "Vars_Indep= columnas_cuantitativas_limpio[['reviews_per_month']]\n",
        "Var_Dep= columnas_cuantitativas_limpio['number_of_reviews']\n",
        "\n",
        "#Se define model como la función de regresión lineal\n",
        "from sklearn.linear_model import LinearRegression\n",
        "model= LinearRegression()"
      ]
    },
    {
      "cell_type": "code",
      "execution_count": null,
      "metadata": {
        "colab": {
          "base_uri": "https://localhost:8080/"
        },
        "collapsed": true,
        "id": "osmCfKgm_kIj",
        "outputId": "0e7a438d-ebc3-422b-e71e-64cc1bff4f78"
      },
      "outputs": [],
      "source": [
        "#Ajustamos el modelo con las variables antes declaradas\n",
        "model.fit(X=Vars_Indep, y=Var_Dep)\n",
        "\n",
        "#Verificamos los coeficientes obtenidos para el modelo ajustado\n",
        "model.__dict__"
      ]
    },
    {
      "cell_type": "code",
      "execution_count": null,
      "metadata": {
        "colab": {
          "base_uri": "https://localhost:8080/",
          "height": 468
        },
        "collapsed": true,
        "id": "uAcRl6rq_z3C",
        "outputId": "a5f9ee94-da4f-4ace-b27e-18d213f5588e"
      },
      "outputs": [],
      "source": [
        "#Corroboramos cual es el coeficiente de Correlación de nuestro modelo\n",
        "sns.scatterplot(x='reviews_per_month', y='number_of_reviews', color=\"blue\", data=columnas_cuantitativas_limpio)\n",
        "coef_Deter=model.score(X=Vars_Indep, y=Var_Dep)\n",
        "coef_Correl=np.sqrt(coef_Deter)\n",
        "coef_Correl"
      ]
    },
    {
      "cell_type": "code",
      "execution_count": null,
      "metadata": {
        "id": "YRqkuW88ByNc"
      },
      "outputs": [],
      "source": [
        "#Declaramos las variables dependientes e independientes para la regresión lineal\n",
        "Vars_Indep2= columnas_cuantitativas_limpio[['calculated_host_listings_count']]\n",
        "Var_Dep2= columnas_cuantitativas_limpio['review_scores_rating']\n",
        "\n",
        "#Se define model como la función de regresión lineal\n",
        "from sklearn.linear_model import LinearRegression\n",
        "model2= LinearRegression()"
      ]
    },
    {
      "cell_type": "code",
      "execution_count": null,
      "metadata": {
        "colab": {
          "base_uri": "https://localhost:8080/"
        },
        "collapsed": true,
        "id": "AwUvG_AXCOAL",
        "outputId": "f3a8eaf9-4654-44d2-f5ef-4df73432a852"
      },
      "outputs": [],
      "source": [
        "#Ajustamos el modelo con las variables antes declaradas\n",
        "model2.fit(X=Vars_Indep2, y=Var_Dep2)\n",
        "\n",
        "#Verificamos los coeficientes obtenidos para el modelo ajustado\n",
        "model2.__dict__"
      ]
    },
    {
      "cell_type": "code",
      "execution_count": null,
      "metadata": {
        "colab": {
          "base_uri": "https://localhost:8080/",
          "height": 468
        },
        "collapsed": true,
        "id": "CWOfSOcuCSxB",
        "outputId": "0ccd7439-b3bd-46d8-afa3-a01e6184127d"
      },
      "outputs": [],
      "source": [
        "#Corroboramos cual es el coeficiente de Correlación de nuestro modelo\n",
        "sns.scatterplot(x='calculated_host_listings_count', y='review_scores_rating', color=\"blue\", data=columnas_cuantitativas_limpio)\n",
        "coef_Deter2=model2.score(X=Vars_Indep2, y=Var_Dep2)\n",
        "coef_Correl2=np.sqrt(coef_Deter2)\n",
        "coef_Correl2"
      ]
    },
    {
      "cell_type": "markdown",
      "metadata": {},
      "source": [
        "Modelo 3"
      ]
    },
    {
      "cell_type": "code",
      "execution_count": null,
      "metadata": {},
      "outputs": [],
      "source": [
        "#Declaramos las variables dependientes e independientes para la regresión lineal\n",
        "Vars_Indep3= columnas_cuantitativas_limpio[['review_scores_rating']]\n",
        "Var_Dep3= columnas_cuantitativas_limpio['calculated_host_listings_count']\n",
        "\n",
        "#Se define model como la función de regresión lineal\n",
        "from sklearn.linear_model import LinearRegression\n",
        "model3= LinearRegression()"
      ]
    },
    {
      "cell_type": "code",
      "execution_count": null,
      "metadata": {},
      "outputs": [],
      "source": [
        "#Ajustamos el modelo con las variables antes declaradas\n",
        "model3.fit(X=Vars_Indep3, y=Var_Dep3)\n",
        "\n",
        "#Verificamos los coeficientes obtenidos para el modelo ajustado\n",
        "model3.__dict__"
      ]
    },
    {
      "cell_type": "code",
      "execution_count": 41,
      "metadata": {},
      "outputs": [
        {
          "data": {
            "text/plain": [
              "0.10790019091847432"
            ]
          },
          "execution_count": 41,
          "metadata": {},
          "output_type": "execute_result"
        },
        {
          "data": {
            "image/png": "[encoded data removed]",
            "text/plain": [
              "<Figure size 640x480 with 1 Axes>"
            ]
          },
          "metadata": {},
          "output_type": "display_data"
        }
      ],
      "source": [
        "#Corroboramos cual es el coeficiente de Correlación de nuestro modelo\n",
        "sns.scatterplot(x='reviews_per_month', y='calculated_host_listings_count', color=\"blue\", data=columnas_cuantitativas_limpio)\n",
        "coef_Deter3=model3.score(X=Vars_Indep3, y=Var_Dep3)\n",
        "coef_Correl3=np.sqrt(coef_Deter3)\n",
        "coef_Correl3"
      ]
    },
    {
      "cell_type": "markdown",
      "metadata": {},
      "source": [
        "Regresion multiple"
      ]
    },
    {
      "cell_type": "code",
      "execution_count": 42,
      "metadata": {},
      "outputs": [],
      "source": [
        "#Declaramos las variables dependientes e independientes para la regresión lineal\n",
        "Vars_IndepM= columnas_cuantitativas_limpio[[\"number_of_reviews\",\t\"review_scores_rating\",\"calculated_host_listings_count\",\t\"reviews_per_month\"]]\n",
        "Var_DepM= columnas_cuantitativas_limpio['accommodates']\n",
        "\n",
        "#Se define model como la función de regresión lineal\n",
        "from sklearn.linear_model import LinearRegression\n",
        "modelM= LinearRegression()"
      ]
    },
    {
      "cell_type": "code",
      "execution_count": 43,
      "metadata": {},
      "outputs": [
        {
          "data": {
            "text/plain": [
              "{'fit_intercept': True,\n",
              " 'copy_X': True,\n",
              " 'n_jobs': None,\n",
              " 'positive': False,\n",
              " 'feature_names_in_': array(['number_of_reviews', 'review_scores_rating',\n",
              "        'calculated_host_listings_count', 'reviews_per_month'],\n",
              "       dtype=object),\n",
              " 'n_features_in_': 4,\n",
              " 'coef_': array([-0.00121597, -0.00356485, -0.01739571, -0.12547446]),\n",
              " 'rank_': 4,\n",
              " 'singular_': array([2290.94532275,  253.48023214,   66.81104766,   12.21103404]),\n",
              " 'intercept_': 4.168221753045437}"
            ]
          },
          "execution_count": 43,
          "metadata": {},
          "output_type": "execute_result"
        }
      ],
      "source": [
        "#Ajustamos el modelo con las variables antes declaradas\n",
        "modelM.fit(X=Vars_IndepM, y=Var_DepM)\n",
        "\n",
        "modelM.__dict__"
      ]
    },
    {
      "cell_type": "code",
      "execution_count": 44,
      "metadata": {},
      "outputs": [
        {
          "data": {
            "text/plain": [
              "0.1079862662335627"
            ]
          },
          "execution_count": 44,
          "metadata": {},
          "output_type": "execute_result"
        }
      ],
      "source": [
        "coef_DeterM=modelM.score(X=Vars_IndepM, y=Var_DepM)\n",
        "coef_CorrelM=np.sqrt(coef_DeterM)\n",
        "coef_CorrelM"
      ]
    },
    {
      "cell_type": "code",
      "execution_count": 45,
      "metadata": {},
      "outputs": [
        {
          "data": {
            "text/plain": [
              "<Axes: xlabel='number_of_reviews', ylabel='accommodates'>"
            ]
          },
          "execution_count": 45,
          "metadata": {},
          "output_type": "execute_result"
        },
        {
          "data": {
            "image/png": "[encoded data removed]",
            "text/plain": [
              "<Figure size 640x480 with 1 Axes>"
            ]
          },
          "metadata": {},
          "output_type": "display_data"
        }
      ],
      "source": [
        "#Modelo predictivo\n",
        "# Generar las predicciones\n",
        "y_pred = modelM.predict(X=columnas_cuantitativas_limpio[[\"number_of_reviews\", \"review_scores_rating\", \"calculated_host_listings_count\", \"reviews_per_month\"]])\n",
        "\n",
        "# Insertar las predicciones en el DataFrame\n",
        "columnas_cuantitativas_limpio['Predicciones'] = y_pred\n",
        "\n",
        "# Graficar\n",
        "sns.scatterplot(x='number_of_reviews', y='accommodates', color=\"blue\", data=columnas_cuantitativas_limpio)\n",
        "sns.scatterplot(x='number_of_reviews', y='Predicciones', color=\"red\", data=columnas_cuantitativas_limpio)"
      ]
    }
  ],
  "metadata": {
    "colab": {
      "provenance": []
    },
    "kernelspec": {
      "display_name": "Python 3",
      "name": "python3"
    },
    "language_info": {
      "codemirror_mode": {
        "name": "ipython",
        "version": 3
      },
      "file_extension": ".py",
      "mimetype": "text/x-python",
      "name": "python",
      "nbconvert_exporter": "python",
      "pygments_lexer": "ipython3",
      "version": "3.12.1"
    }
  },
  "nbformat": 4,
  "nbformat_minor": 0
}
